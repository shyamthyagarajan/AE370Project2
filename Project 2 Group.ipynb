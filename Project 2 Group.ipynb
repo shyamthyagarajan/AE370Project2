{
 "cells": [
  {
   "cell_type": "markdown",
   "metadata": {},
   "source": [
    "## Imports"
   ]
  },
  {
   "cell_type": "code",
   "execution_count": 1,
   "metadata": {},
   "outputs": [],
   "source": [
    "import numpy as np\n",
    "import sympy as sym\n",
    "import matplotlib.pyplot as plt\n",
    "import matplotlib.axes as ax\n",
    "from numpy import linalg as LA"
   ]
  },
  {
   "cell_type": "markdown",
   "metadata": {},
   "source": [
    "## Constants"
   ]
  },
  {
   "cell_type": "code",
   "execution_count": 2,
   "metadata": {},
   "outputs": [],
   "source": [
    "L = 1.0                            # length of the rod (m)\n",
    "A = 0.00001                        # cross-sectional area of the rod (m^2)\n",
    "rho = 1600                         # density of the rod (kg/m^3)\n",
    "E = 2e11                           # Young's modulus of the rod (Pa)\n",
    "c = np.sqrt((E*1e-6) / (rho*1e-3)) # wave speed (m/s)"
   ]
  },
  {
   "cell_type": "markdown",
   "metadata": {},
   "source": [
    "## Functions / Plotting"
   ]
  },
  {
   "cell_type": "code",
   "execution_count": 3,
   "metadata": {},
   "outputs": [],
   "source": [
    "def get_displacement(L, dx, scale_param):\n",
    "    \"\"\" \n",
    "    Returns the displacement and initial u matrix\n",
    "    \"\"\"\n",
    "    x = np.arange(0, scale_param*L + dx, dx)\n",
    "    u = np.zeros_like(x)\n",
    "    u[1:-1] = np.sin(np.pi * x[1:-1] / L)\n",
    "    return u, x\n",
    "\n",
    "def f_true(u, t):\n",
    "    \"\"\" \n",
    "    Returns the f_true function which is the 2nd derivative w.r.t. x using the central difference method\n",
    "    \"\"\"\n",
    "    d2u_dx2 = np.zeros_like(u)\n",
    "    for i in range(1, len(d2u_dx2) - 1):\n",
    "        d2u_dx2[i] = (u[i+1] - 2*u[i] + u[i-1]) / dx**2\n",
    "    return c**2 * d2u_dx2 - E*A/rho * u\n",
    "\n",
    "def RK4(u, t, dx, dt):\n",
    "    \"\"\" \n",
    "    Returns the u matrix at the next time step via the RK4 method\n",
    "    \"\"\"\n",
    "    k1 = dt * f_true(u, t)\n",
    "    k2 = dt * f_true(u + k1/2, t + dt/2)\n",
    "    k3 = dt * f_true(u + k2/2, t + dt/2)\n",
    "    k4 = dt * f_true(u + k3, t + dt)\n",
    "    return u + 1/6 * (k1 + 2*k2 + 2*k3 + k4)\n",
    "\n",
    "def get_final_u(u_init, dx, dt, t):\n",
    "    \"\"\" \n",
    "    Returns the final u matrix after the final time step in the simulation\n",
    "    \"\"\"\n",
    "    for i in range(int(t / dt)):\n",
    "        u = RK4(u_init, i * dt, dx, dt)\n",
    "    return u"
   ]
  },
  {
   "cell_type": "code",
   "execution_count": 4,
   "metadata": {},
   "outputs": [
    {
     "data": {
      "image/png": "[encoded data removed]",
      "text/plain": [
       "<Figure size 432x288 with 1 Axes>"
      ]
     },
     "metadata": {
      "needs_background": "light"
     },
     "output_type": "display_data"
    }
   ],
   "source": [
    "dx = 0.01\n",
    "dt = 0.00025\n",
    "sim_T = 0.01\n",
    "\n",
    "u_initial, x_final = get_displacement(L, dx, scale_param = 5)\n",
    "u_final = get_final_u(u_initial, dx, dt, sim_T)\n",
    "\n",
    "plt.plot(x_final, u_final)\n",
    "plt.xlabel('x')\n",
    "plt.ylabel('u')\n",
    "plt.title('Deformation of Elastic Rod: 1d Wave Equation Solution')\n",
    "plt.grid()\n",
    "plt.show()"
   ]
  },
  {
   "cell_type": "markdown",
   "metadata": {},
   "source": [
    "## Error / Plotting"
   ]
  },
  {
   "cell_type": "code",
   "execution_count": null,
   "metadata": {},
   "outputs": [],
   "source": [
    "print(u_final)"
   ]
  },
  {
   "cell_type": "code",
   "execution_count": null,
   "metadata": {},
   "outputs": [],
   "source": []
  },
  {
   "cell_type": "code",
   "execution_count": null,
   "metadata": {},
   "outputs": [],
   "source": []
  },
  {
   "cell_type": "code",
   "execution_count": null,
   "metadata": {},
   "outputs": [],
   "source": []
  },
  {
   "cell_type": "code",
   "execution_count": null,
   "metadata": {},
   "outputs": [],
   "source": []
  }
 ],
 "metadata": {
  "kernelspec": {
   "display_name": "Python 3",
   "language": "python",
   "name": "python3"
  },
  "language_info": {
   "codemirror_mode": {
    "name": "ipython",
    "version": 3
   },
   "file_extension": ".py",
   "mimetype": "text/x-python",
   "name": "python",
   "nbconvert_exporter": "python",
   "pygments_lexer": "ipython3",
   "version": "3.8.5"
  }
 },
 "nbformat": 4,
 "nbformat_minor": 4
}
